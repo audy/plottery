{
 "cells": [
  {
   "cell_type": "code",
   "execution_count": 138,
   "id": "c7771897",
   "metadata": {},
   "outputs": [],
   "source": [
    "import cairo\n",
    "from io import BytesIO\n",
    "from IPython import display\n",
    "import numpy as np"
   ]
  },
  {
   "cell_type": "code",
   "execution_count": 139,
   "id": "50e10a1e",
   "metadata": {},
   "outputs": [
    {
     "name": "stdout",
     "output_type": "stream",
     "text": [
      "current_height=0.00 next_height=0.20 top_width=0.29 bottom_width=0.98\n",
      "current_height=0.20 next_height=0.40 top_width=0.98 bottom_width=0.65\n",
      "current_height=0.40 next_height=0.60 top_width=0.65 bottom_width=0.36\n",
      "current_height=0.60 next_height=0.80 top_width=0.36 bottom_width=0.88\n",
      "current_height=0.80 next_height=1.00 top_width=0.88 bottom_width=0.46\n"
     ]
    },
    {
     "data": {
      "image/svg+xml": [
       "<svg xmlns=\"http://www.w3.org/2000/svg\" xmlns:xlink=\"http://www.w3.org/1999/xlink\" width=\"200pt\" height=\"200pt\" viewBox=\"0 0 200 200\" version=\"1.1\">\n",
       "<g id=\"surface361\">\n",
       "<path style=\"fill:none;stroke-width:0.02;stroke-linecap:butt;stroke-linejoin:miter;stroke:rgb(0%,0%,0%);stroke-opacity:1;stroke-miterlimit:10;\" d=\"M 0.355 0 L 0.01 0.2 \" transform=\"matrix(200,0,0,200,0,0)\"/>\n",
       "<path style=\"fill:none;stroke-width:0.02;stroke-linecap:butt;stroke-linejoin:miter;stroke:rgb(0%,0%,0%);stroke-opacity:1;stroke-miterlimit:10;\" d=\"M 0.645 0 L 0.99 0.2 \" transform=\"matrix(200,0,0,200,0,0)\"/>\n",
       "<path style=\"fill:none;stroke-width:0.02;stroke-linecap:butt;stroke-linejoin:miter;stroke:rgb(0%,0%,0%);stroke-opacity:1;stroke-miterlimit:10;\" d=\"M 0.01 0.2 L 0.175 0.4 \" transform=\"matrix(200,0,0,200,0,0)\"/>\n",
       "<path style=\"fill:none;stroke-width:0.02;stroke-linecap:butt;stroke-linejoin:miter;stroke:rgb(0%,0%,0%);stroke-opacity:1;stroke-miterlimit:10;\" d=\"M 0.99 0.2 L 0.825 0.4 \" transform=\"matrix(200,0,0,200,0,0)\"/>\n",
       "<path style=\"fill:none;stroke-width:0.02;stroke-linecap:butt;stroke-linejoin:miter;stroke:rgb(0%,0%,0%);stroke-opacity:1;stroke-miterlimit:10;\" d=\"M 0.175 0.4 L 0.32 0.6 \" transform=\"matrix(200,0,0,200,0,0)\"/>\n",
       "<path style=\"fill:none;stroke-width:0.02;stroke-linecap:butt;stroke-linejoin:miter;stroke:rgb(0%,0%,0%);stroke-opacity:1;stroke-miterlimit:10;\" d=\"M 0.825 0.4 L 0.68 0.6 \" transform=\"matrix(200,0,0,200,0,0)\"/>\n",
       "<path style=\"fill:none;stroke-width:0.02;stroke-linecap:butt;stroke-linejoin:miter;stroke:rgb(0%,0%,0%);stroke-opacity:1;stroke-miterlimit:10;\" d=\"M 0.32 0.6 L 0.06 0.8 \" transform=\"matrix(200,0,0,200,0,0)\"/>\n",
       "<path style=\"fill:none;stroke-width:0.02;stroke-linecap:butt;stroke-linejoin:miter;stroke:rgb(0%,0%,0%);stroke-opacity:1;stroke-miterlimit:10;\" d=\"M 0.68 0.6 L 0.94 0.8 \" transform=\"matrix(200,0,0,200,0,0)\"/>\n",
       "<path style=\"fill:none;stroke-width:0.02;stroke-linecap:butt;stroke-linejoin:miter;stroke:rgb(0%,0%,0%);stroke-opacity:1;stroke-miterlimit:10;\" d=\"M 0.06 0.8 L 0.27 1 \" transform=\"matrix(200,0,0,200,0,0)\"/>\n",
       "<path style=\"fill:none;stroke-width:0.02;stroke-linecap:butt;stroke-linejoin:miter;stroke:rgb(0%,0%,0%);stroke-opacity:1;stroke-miterlimit:10;\" d=\"M 0.94 0.8 L 0.73 1 \" transform=\"matrix(200,0,0,200,0,0)\"/>\n",
       "</g>\n",
       "</svg>"
      ],
      "text/plain": [
       "<IPython.core.display.SVG object>"
      ]
     },
     "execution_count": 139,
     "metadata": {},
     "output_type": "execute_result"
    }
   ],
   "source": [
    "def get_random_width():\n",
    "    return np.random.randint(0, 100) / 100\n",
    "\n",
    "\n",
    "def generate_pot(layers=5, width=200, height=200):\n",
    "    layer_height = 1 / layers\n",
    "    bottom_width = None\n",
    "    current_height = 0.0\n",
    "    svgio = BytesIO()\n",
    "    with cairo.SVGSurface(svgio, width, height) as surface:\n",
    "        context = cairo.Context(surface)\n",
    "        context.scale(width, height)\n",
    "        context.set_line_width(0.02)\n",
    "        for layer in range(0, layers):\n",
    "            top_width = get_random_width() if not bottom_width else bottom_width\n",
    "            bottom_width = get_random_width()\n",
    "            # todo: randomize layer height\n",
    "            next_height = current_height + layer_height\n",
    "            \n",
    "            print(f\"{current_height=:.2f} {next_height=:.2f} {top_width=:.2f} {bottom_width=:.2f}\")\n",
    "\n",
    "            # draw two lines\n",
    "            x_a_1 = (1 - top_width) / 2\n",
    "            x_a_2 = x_a_1 + top_width\n",
    "            \n",
    "            x_b_1 = (1 - bottom_width) / 2\n",
    "            x_b_2 = x_b_1 + bottom_width\n",
    "            \n",
    "            context.move_to(x_a_1, current_height)\n",
    "            context.line_to(x_b_1, next_height)\n",
    "            context.stroke()\n",
    "            context.move_to(x_a_2, current_height)\n",
    "            context.line_to(x_b_2, next_height)\n",
    "            context.stroke()\n",
    "        \n",
    "            # do at the end as we *build down*\n",
    "            current_height = next_height\n",
    "            \n",
    "    return svgio\n",
    "\n",
    "\n",
    "display.SVG(generate_pot().getvalue())"
   ]
  }
 ],
 "metadata": {
  "kernelspec": {
   "display_name": "Python 3 (ipykernel)",
   "language": "python",
   "name": "python3"
  },
  "language_info": {
   "codemirror_mode": {
    "name": "ipython",
    "version": 3
   },
   "file_extension": ".py",
   "mimetype": "text/x-python",
   "name": "python",
   "nbconvert_exporter": "python",
   "pygments_lexer": "ipython3",
   "version": "3.9.4"
  }
 },
 "nbformat": 4,
 "nbformat_minor": 5
}
